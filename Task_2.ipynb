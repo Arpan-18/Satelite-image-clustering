{
  "cells": [
    {
      "cell_type": "markdown",
      "metadata": {
        "id": "view-in-github",
        "colab_type": "text"
      },
      "source": [
        "<a href=\"https://colab.research.google.com/github/Arpan-18/Satelite-image-clustering/blob/main/Task_2.ipynb\" target=\"_parent\"><img src=\"https://colab.research.google.com/assets/colab-badge.svg\" alt=\"Open In Colab\"/></a>"
      ]
    },
    {
      "cell_type": "code",
      "execution_count": null,
      "id": "021dc0bf-4525-494d-a25b-7eabbce8f69c",
      "metadata": {
        "id": "021dc0bf-4525-494d-a25b-7eabbce8f69c"
      },
      "outputs": [],
      "source": [
        "import numpy as np\n",
        "import pandas as pd\n",
        "import os\n",
        "import cv2\n",
        "from PIL import Image\n",
        "import matplotlib.pyplot as plt\n",
        "import gdown"
      ]
    },
    {
      "cell_type": "code",
      "source": [
        "# url for my folder containing the files\n",
        "# url = \"https://drive.google.com/drive/folders/1AgXvDO8YvoMTf_jEnFxxXsjOsen7PnQe?usp=sharing\""
      ],
      "metadata": {
        "id": "GPvGN4gzvfv9"
      },
      "id": "GPvGN4gzvfv9",
      "execution_count": null,
      "outputs": []
    },
    {
      "cell_type": "markdown",
      "source": [
        "Extracting the points"
      ],
      "metadata": {
        "id": "SbSTd4hxd8Ze"
      },
      "id": "SbSTd4hxd8Ze"
    },
    {
      "cell_type": "code",
      "execution_count": null,
      "id": "f57b24e3-be25-4013-97be-16fbca9a2567",
      "metadata": {
        "id": "f57b24e3-be25-4013-97be-16fbca9a2567"
      },
      "outputs": [],
      "source": [
        "def process_image(image_path):\n",
        "    img = cv2.imread(image_path)\n",
        "    gr = cv2.cvtColor(img,cv2.COLOR_BGR2GRAY)\n",
        "    _,binary = cv2.threshold(gr,240,255,cv2.THRESH_BINARY)\n",
        "    contours,_ = cv2.findContours(binary,cv2.RETR_EXTERNAL,cv2.CHAIN_APPROX_SIMPLE)\n",
        "    points = []\n",
        "    for contour in contours:\n",
        "        for point in contour.squeeze():\n",
        "            points.append(point)\n",
        "    return points"
      ]
    },
    {
      "cell_type": "markdown",
      "id": "24dc1c37-ac28-4730-b2f2-e91cc5c461d0",
      "metadata": {
        "id": "24dc1c37-ac28-4730-b2f2-e91cc5c461d0"
      },
      "source": [
        "##IMG_1"
      ]
    },
    {
      "cell_type": "code",
      "execution_count": null,
      "id": "d3b5c40b-bcbf-4dc7-aef4-638799f7aca5",
      "metadata": {
        "colab": {
          "base_uri": "https://localhost:8080/"
        },
        "id": "d3b5c40b-bcbf-4dc7-aef4-638799f7aca5",
        "outputId": "9b9c0fad-9b04-4db3-f086-b29df3a69663"
      },
      "outputs": [
        {
          "output_type": "stream",
          "name": "stderr",
          "text": [
            "Retrieving folder contents\n"
          ]
        },
        {
          "output_type": "stream",
          "name": "stdout",
          "text": [
            "Processing file 1_y6UMljEyy2WnZVTXIn3KsViseph8Rwa 1.png\n"
          ]
        },
        {
          "output_type": "stream",
          "name": "stderr",
          "text": [
            "Retrieving folder contents completed\n",
            "Building directory structure\n",
            "Building directory structure completed\n",
            "Downloading...\n",
            "From: https://drive.google.com/uc?id=1_y6UMljEyy2WnZVTXIn3KsViseph8Rwa\n",
            "To: /content/train_images/1.png\n",
            "100%|██████████| 576/576 [00:00<00:00, 1.76MB/s]\n",
            "Download completed\n"
          ]
        }
      ],
      "source": [
        "url = 'https://drive.google.com/drive/folders/19VGzq3m0XPonazP5NhnjJdNfdGpixu6_?usp=drive_link'\n",
        "output_dir_1 = 'train_images'\n",
        "\n",
        "gdown.download_folder(url, output=output_dir_1, quiet=False)\n",
        "\n",
        "# Update the train_dir variable\n",
        "train_dir = output_dir_1\n",
        "\n",
        "\n",
        "\n",
        "# train_dir = 'https://drive.google.com/drive/folders/IMG_1'\n",
        "all_points = []\n",
        "\n",
        "for filename in os.listdir(train_dir):\n",
        "    if filename.endswith('.png'):\n",
        "        image_path = os.path.join(train_dir,filename)\n",
        "        points = process_image(image_path)\n",
        "        all_points.extend(points)"
      ]
    },
    {
      "cell_type": "code",
      "source": [
        "from google.colab import drive\n",
        "drive.mount('/content/drive')"
      ],
      "metadata": {
        "colab": {
          "base_uri": "https://localhost:8080/"
        },
        "id": "Xymf8vqXZ3a8",
        "outputId": "93a4cb78-36a3-4b65-bc3e-2cb27cd164c8"
      },
      "id": "Xymf8vqXZ3a8",
      "execution_count": null,
      "outputs": [
        {
          "output_type": "stream",
          "name": "stdout",
          "text": [
            "Drive already mounted at /content/drive; to attempt to forcibly remount, call drive.mount(\"/content/drive\", force_remount=True).\n"
          ]
        }
      ]
    },
    {
      "cell_type": "code",
      "execution_count": null,
      "id": "79ccc6a4-5136-47eb-9e77-e29020d8ce56",
      "metadata": {
        "colab": {
          "base_uri": "https://localhost:8080/"
        },
        "id": "79ccc6a4-5136-47eb-9e77-e29020d8ce56",
        "outputId": "dd75fdd3-7e1a-40c1-a6c1-ebf28ded998d"
      },
      "outputs": [
        {
          "output_type": "execute_result",
          "data": {
            "text/plain": [
              "[45,\n",
              " 46,\n",
              " array([40, 44], dtype=int32),\n",
              " array([41, 44], dtype=int32),\n",
              " 38,\n",
              " 44,\n",
              " 43,\n",
              " 43,\n",
              " 36,\n",
              " 43,\n",
              " array([46, 41], dtype=int32),\n",
              " array([46, 42], dtype=int32),\n",
              " 19,\n",
              " 41,\n",
              " 15,\n",
              " 40,\n",
              " 33,\n",
              " 39,\n",
              " 21,\n",
              " 38,\n",
              " array([17, 38], dtype=int32),\n",
              " array([18, 39], dtype=int32),\n",
              " 47,\n",
              " 37,\n",
              " array([38, 35], dtype=int32),\n",
              " array([39, 36], dtype=int32),\n",
              " array([37, 38], dtype=int32),\n",
              " array([36, 38], dtype=int32),\n",
              " array([36, 39], dtype=int32),\n",
              " array([39, 36], dtype=int32),\n",
              " 10,\n",
              " 35,\n",
              " array([41, 34], dtype=int32),\n",
              " array([41, 35], dtype=int32),\n",
              " array([42, 36], dtype=int32),\n",
              " array([42, 37], dtype=int32),\n",
              " array([41, 38], dtype=int32),\n",
              " array([40, 38], dtype=int32),\n",
              " array([37, 41], dtype=int32),\n",
              " array([39, 41], dtype=int32),\n",
              " array([39, 40], dtype=int32),\n",
              " array([41, 38], dtype=int32),\n",
              " array([43, 40], dtype=int32),\n",
              " array([42, 41], dtype=int32),\n",
              " array([41, 41], dtype=int32),\n",
              " array([41, 42], dtype=int32),\n",
              " array([44, 39], dtype=int32),\n",
              " array([44, 37], dtype=int32),\n",
              " array([45, 36], dtype=int32),\n",
              " array([43, 38], dtype=int32),\n",
              " array([42, 37], dtype=int32),\n",
              " array([42, 36], dtype=int32),\n",
              " array([43, 35], dtype=int32),\n",
              " array([42, 36], dtype=int32),\n",
              " array([41, 35], dtype=int32),\n",
              " 44,\n",
              " 33,\n",
              " 41,\n",
              " 32,\n",
              " 61,\n",
              " 30,\n",
              " array([13, 29], dtype=int32),\n",
              " array([15, 31], dtype=int32),\n",
              " array([14, 32], dtype=int32),\n",
              " array([13, 32], dtype=int32),\n",
              " array([14, 32], dtype=int32),\n",
              " array([15, 31], dtype=int32),\n",
              " array([16, 32], dtype=int32),\n",
              " array([16, 33], dtype=int32),\n",
              " array([15, 34], dtype=int32),\n",
              " array([14, 34], dtype=int32),\n",
              " array([15, 35], dtype=int32),\n",
              " array([13, 37], dtype=int32),\n",
              " array([12, 37], dtype=int32),\n",
              " array([13, 37], dtype=int32),\n",
              " array([14, 36], dtype=int32),\n",
              " array([15, 37], dtype=int32),\n",
              " array([17, 35], dtype=int32),\n",
              " array([19, 35], dtype=int32),\n",
              " array([20, 34], dtype=int32),\n",
              " array([20, 33], dtype=int32),\n",
              " array([19, 32], dtype=int32),\n",
              " array([20, 31], dtype=int32),\n",
              " array([21, 31], dtype=int32),\n",
              " array([21, 30], dtype=int32),\n",
              " array([20, 31], dtype=int32),\n",
              " array([19, 30], dtype=int32),\n",
              " array([19, 29], dtype=int32),\n",
              " array([17, 29], dtype=int32),\n",
              " array([17, 30], dtype=int32),\n",
              " array([16, 31], dtype=int32),\n",
              " array([15, 31], dtype=int32),\n",
              " array([14, 30], dtype=int32),\n",
              " array([15, 29], dtype=int32),\n",
              " array([14, 30], dtype=int32),\n",
              " 11,\n",
              " 28,\n",
              " 62,\n",
              " 26,\n",
              " 54,\n",
              " 26,\n",
              " array([57, 25], dtype=int32),\n",
              " array([58, 26], dtype=int32),\n",
              " array([55, 23], dtype=int32),\n",
              " array([55, 24], dtype=int32),\n",
              " array([56, 23], dtype=int32),\n",
              " 63,\n",
              " 21,\n",
              " array([54, 20], dtype=int32),\n",
              " array([54, 21], dtype=int32),\n",
              " 50,\n",
              " 20,\n",
              " array([58, 16], dtype=int32),\n",
              " array([56, 18], dtype=int32),\n",
              " array([55, 17], dtype=int32),\n",
              " array([55, 18], dtype=int32),\n",
              " array([56, 18], dtype=int32),\n",
              " array([57, 17], dtype=int32),\n",
              " array([58, 17], dtype=int32),\n",
              " array([60, 19], dtype=int32),\n",
              " array([59, 20], dtype=int32),\n",
              " array([57, 20], dtype=int32),\n",
              " array([58, 21], dtype=int32),\n",
              " array([58, 22], dtype=int32),\n",
              " array([59, 22], dtype=int32),\n",
              " array([60, 21], dtype=int32),\n",
              " array([60, 20], dtype=int32),\n",
              " array([62, 18], dtype=int32),\n",
              " array([63, 19], dtype=int32),\n",
              " array([62, 18], dtype=int32),\n",
              " array([63, 17], dtype=int32),\n",
              " array([60, 17], dtype=int32),\n",
              " array([59, 16], dtype=int32),\n",
              " array([60, 12], dtype=int32),\n",
              " array([59, 13], dtype=int32),\n",
              " array([60, 14], dtype=int32),\n",
              " array([59, 13], dtype=int32)]"
            ]
          },
          "metadata": {},
          "execution_count": 4
        }
      ],
      "source": [
        "all_points"
      ]
    },
    {
      "cell_type": "markdown",
      "source": [
        "list to suitable array-type convertion"
      ],
      "metadata": {
        "id": "9l8Xwhzhm0fI"
      },
      "id": "9l8Xwhzhm0fI"
    },
    {
      "cell_type": "code",
      "source": [
        "def to_np_array(elem):\n",
        "    if isinstance(elem, np.ndarray):\n",
        "        return elem\n",
        "    elif isinstance(elem, (list, tuple)):\n",
        "        return np.array(elem, dtype=int)\n",
        "    else:\n",
        "        return np.array([elem], dtype=int)\n",
        "\n",
        "# Convert each element into array-type\n",
        "formatted_data = [to_np_array(elem) for elem in all_points]\n",
        "\n",
        "\n",
        "\n",
        "def pair_lone_numbers(data):\n",
        "    formatted_data_2= []\n",
        "    i = 0\n",
        "    while i < len(data):\n",
        "        if isinstance(data[i], np.ndarray) and len(data[i]) == 1:\n",
        "            if i + 1 < len(data) and isinstance(data[i + 1], np.ndarray) and len(data[i + 1]) == 1:\n",
        "                formatted_data_2.append(np.array([data[i][0], data[i + 1][0]], dtype=int))\n",
        "                i += 2\n",
        "            else:\n",
        "                raise ValueError(\"Single-element array found without a pair.\")\n",
        "        elif isinstance(data[i], np.ndarray):\n",
        "            formatted_data_2.append(data[i])\n",
        "            i += 1\n",
        "        elif isinstance(data[i], int):\n",
        "            if i + 1 < len(data) and isinstance(data[i + 1], int):\n",
        "                formatted_data_2.append(np.array([data[i], data[i + 1]], dtype=int))\n",
        "                i += 2\n",
        "            else:\n",
        "                raise ValueError(\"Single integer found without a pair.\")\n",
        "        else:\n",
        "            raise ValueError(\"Unsupported data type found.\")\n",
        "    return formatted_data_2\n",
        "\n",
        "formatted_data_2 = pair_lone_numbers(formatted_data)\n",
        "\n"
      ],
      "metadata": {
        "id": "q3N0FpsAjIH5"
      },
      "id": "q3N0FpsAjIH5",
      "execution_count": null,
      "outputs": []
    },
    {
      "cell_type": "markdown",
      "source": [
        "Visualizing the points"
      ],
      "metadata": {
        "id": "KmUeaxRDvk0B"
      },
      "id": "KmUeaxRDvk0B"
    },
    {
      "cell_type": "code",
      "execution_count": null,
      "id": "990edc59-8c2a-4c51-b4eb-4f7215e73505",
      "metadata": {
        "colab": {
          "base_uri": "https://localhost:8080/",
          "height": 472
        },
        "id": "990edc59-8c2a-4c51-b4eb-4f7215e73505",
        "outputId": "5ed568be-0d10-4f13-b53f-a416e36f8226"
      },
      "outputs": [
        {
          "output_type": "display_data",
          "data": {
            "text/plain": [
              "<Figure size 640x480 with 1 Axes>"
            ],
            "image/png": "[encoded data removed]"
          },
          "metadata": {}
        }
      ],
      "source": [
        "\n",
        "\n",
        "coordinates = np.array(formatted_data_2)\n",
        "plt.scatter(coordinates[:, 0], coordinates[:, 1])\n",
        "plt.xlabel('X')\n",
        "plt.ylabel('Y')\n",
        "plt.title('Illumination in urban areas for image 1')\n",
        "plt.show()"
      ]
    },
    {
      "cell_type": "markdown",
      "id": "71102493-ab90-414d-a207-d1457c25a749",
      "metadata": {
        "id": "71102493-ab90-414d-a207-d1457c25a749"
      },
      "source": [
        "## KMeans Clustering Algo"
      ]
    },
    {
      "cell_type": "code",
      "execution_count": null,
      "id": "9cd0b2e9-50ca-40ea-bd33-7017ccd942a8",
      "metadata": {
        "id": "9cd0b2e9-50ca-40ea-bd33-7017ccd942a8"
      },
      "outputs": [],
      "source": [
        "def find_closest_centroids(X, centroids):\n",
        "\n",
        "    K = centroids.shape[0]\n",
        "    idx = np.zeros(X.shape[0], dtype=int)\n",
        "\n",
        "    for i in range(X.shape[0]):\n",
        "        distance = []\n",
        "        for j in range(centroids.shape[0]):\n",
        "            norm_ij = np.linalg.norm(X[i] - centroids[j])\n",
        "            distance.append(norm_ij)\n",
        "\n",
        "        idx[i] = np.argmin(distance)\n",
        "\n",
        "    return idx"
      ]
    },
    {
      "cell_type": "code",
      "execution_count": null,
      "id": "706c0e0c-cebe-424c-9252-0484c91c0f00",
      "metadata": {
        "id": "706c0e0c-cebe-424c-9252-0484c91c0f00"
      },
      "outputs": [],
      "source": [
        "def compute_centroids(X, idx, K):\n",
        "\n",
        "    m, n = X.shape\n",
        "    centroids = np.zeros((K, n))\n",
        "\n",
        "    for k in range(K):\n",
        "          points = points = X[idx == k]\n",
        "          centroids[k] = centroids[k] = np.mean(points, axis = 0)\n",
        "\n",
        "    return centroids"
      ]
    },
    {
      "cell_type": "markdown",
      "id": "abc8f8ca-a2c8-4454-ac4b-4960ae7a08dc",
      "metadata": {
        "id": "abc8f8ca-a2c8-4454-ac4b-4960ae7a08dc"
      },
      "source": [
        "##Elbow method"
      ]
    },
    {
      "cell_type": "code",
      "execution_count": null,
      "id": "f13b2d45-93f8-4ec0-af4c-28cd5ea2db15",
      "metadata": {
        "colab": {
          "base_uri": "https://localhost:8080/",
          "height": 466
        },
        "id": "f13b2d45-93f8-4ec0-af4c-28cd5ea2db15",
        "outputId": "9857bf38-0d33-406e-aaad-0c63ff95a4dc"
      },
      "outputs": [
        {
          "output_type": "execute_result",
          "data": {
            "text/plain": [
              "[<matplotlib.lines.Line2D at 0x7f131122a6e0>]"
            ]
          },
          "metadata": {},
          "execution_count": 11
        },
        {
          "output_type": "display_data",
          "data": {
            "text/plain": [
              "<Figure size 640x480 with 1 Axes>"
            ],
            "image/png": "[encoded data removed]"
          },
          "metadata": {}
        }
      ],
      "source": [
        "def calculate_cost(X , centroids, idx):\n",
        "    m, _ = X.shape\n",
        "    cost = 0\n",
        "    # indices = np.unique(idx)\n",
        "    for index in range(centroids.shape[0]):\n",
        "        pt = X[idx==index]\n",
        "        centroid = centroids[index]\n",
        "        for point in pt:\n",
        "            cost += np.linalg.norm( point - centroid) **2\n",
        "    return cost/m\n",
        "\n",
        "def initialize_centeroids(k,iter = 1000):\n",
        "    sum_x = np.zeros(k)\n",
        "    sum_y = np.zeros(k)\n",
        "\n",
        "    for i in range(iter):\n",
        "        x_coor = np.random.uniform(20,55,k)\n",
        "        y_coor = np.random.uniform(20,37,k)\n",
        "        sum_x += x_coor\n",
        "        sum_y += y_coor\n",
        "    x_avg = sum_x/iter\n",
        "    y_avg = sum_y/iter\n",
        "\n",
        "    centroidS = np.column_stack((x_avg,y_avg))\n",
        "\n",
        "    return centroidS\n",
        "\n",
        "k_rng = range(1,6)\n",
        "costs = []\n",
        "\n",
        "for k in k_rng:\n",
        "    Initial_centroids = initialize_centeroids(k)\n",
        "    idx = find_closest_centroids(coordinates,Initial_centroids)\n",
        "    centroids = compute_centroids(coordinates, idx , k)\n",
        "    cost = calculate_cost(coordinates, centroids, idx)\n",
        "    costs.append(cost)\n",
        "\n",
        "\n",
        "\n",
        "plt.xlabel('k')\n",
        "plt.ylabel('sq error')\n",
        "plt.plot(k_rng,costs)"
      ]
    },
    {
      "cell_type": "markdown",
      "id": "25b539c9-0d88-49b8-aa9b-e688c07b2e9f",
      "metadata": {
        "id": "25b539c9-0d88-49b8-aa9b-e688c07b2e9f"
      },
      "source": [
        "#Observing the Graph and manuall observation of the datapoints\n",
        "## K Should be 3"
      ]
    },
    {
      "cell_type": "code",
      "execution_count": null,
      "id": "2f056f8c-8d35-4194-b967-76a116a483fa",
      "metadata": {
        "id": "2f056f8c-8d35-4194-b967-76a116a483fa"
      },
      "outputs": [],
      "source": [
        "initial_centroids = np.array([[18, 35],[42, 40],[60, 20]])  #guessing manually seeing the graph\n",
        "idx = find_closest_centroids(coordinates, initial_centroids)"
      ]
    },
    {
      "cell_type": "code",
      "execution_count": null,
      "id": "ec7afd5e-d1b6-4360-8c14-067ebcbafe74",
      "metadata": {
        "colab": {
          "base_uri": "https://localhost:8080/"
        },
        "id": "ec7afd5e-d1b6-4360-8c14-067ebcbafe74",
        "outputId": "4914e0c8-a7ca-4b87-85cd-a7616f872db8"
      },
      "outputs": [
        {
          "output_type": "stream",
          "name": "stdout",
          "text": [
            "The centroids are: [[16.12195122 33.14634146]\n",
            " [41.         38.56097561]\n",
            " [58.16216216 19.67567568]]\n"
          ]
        }
      ],
      "source": [
        "K = 3\n",
        "centroids = compute_centroids(coordinates, idx, K)\n",
        "\n",
        "print(\"The centroids are:\", centroids)\n"
      ]
    },
    {
      "cell_type": "code",
      "execution_count": null,
      "id": "3c7be60d-fedf-40d3-8daf-cc2858c5dda5",
      "metadata": {
        "colab": {
          "base_uri": "https://localhost:8080/"
        },
        "id": "3c7be60d-fedf-40d3-8daf-cc2858c5dda5",
        "outputId": "c2396e28-3def-4093-cb75-cd258bbbb9cb"
      },
      "outputs": [
        {
          "output_type": "stream",
          "name": "stdout",
          "text": [
            "Cluster Labels: [1 1 1 1 1 1 1 1 0 0 1 0 0 0 1 1 1 1 1 1 1 0 1 1 1 1 1 1 1 1 1 1 1 1 1 1 1\n",
            " 1 1 1 1 1 1 1 1 1 1 2 0 0 0 0 0 0 0 0 0 0 0 0 0 0 0 0 0 0 0 0 0 0 0 0 0 0\n",
            " 0 0 0 0 0 0 0 0 0 2 2 2 2 2 2 2 2 2 2 2 2 2 2 2 2 2 2 2 2 2 2 2 2 2 2 2 2\n",
            " 2 2 2 2 2 2 2 2]\n"
          ]
        }
      ],
      "source": [
        "distances = np.linalg.norm(coordinates[:, np.newaxis] - centroids, axis=2)\n",
        "\n",
        "# assigning each data point to the cluster with the minimum distance\n",
        "cluster_labels = np.argmin(distances, axis=1)\n",
        "\n",
        "print(\"Cluster Labels:\", cluster_labels)"
      ]
    },
    {
      "cell_type": "code",
      "execution_count": null,
      "id": "3eca17a2-6d25-4f1f-87e4-f09096fcbb26",
      "metadata": {
        "id": "3eca17a2-6d25-4f1f-87e4-f09096fcbb26"
      },
      "outputs": [],
      "source": [
        "df = pd.DataFrame(coordinates)\n",
        "df['cluster'] = cluster_labels"
      ]
    },
    {
      "cell_type": "code",
      "execution_count": null,
      "id": "e25fd3e6-c842-40aa-a349-25e99de2e3d3",
      "metadata": {
        "colab": {
          "base_uri": "https://localhost:8080/",
          "height": 423
        },
        "id": "e25fd3e6-c842-40aa-a349-25e99de2e3d3",
        "outputId": "4d46d263-55a3-4052-e363-5c8b6ad242b6"
      },
      "outputs": [
        {
          "output_type": "execute_result",
          "data": {
            "text/plain": [
              "      0   1  cluster\n",
              "0    45  46        1\n",
              "1    40  44        1\n",
              "2    41  44        1\n",
              "3    38  44        1\n",
              "4    43  43        1\n",
              "..   ..  ..      ...\n",
              "114  59  16        2\n",
              "115  60  12        2\n",
              "116  59  13        2\n",
              "117  60  14        2\n",
              "118  59  13        2\n",
              "\n",
              "[119 rows x 3 columns]"
            ],
            "text/html": [
              "\n",
              "  <div id=\"df-8c339ff0-36f0-4e22-b537-0914ef33987f\" class=\"colab-df-container\">\n",
              "    <div>\n",
              "<style scoped>\n",
              "    .dataframe tbody tr th:only-of-type {\n",
              "        vertical-align: middle;\n",
              "    }\n",
              "\n",
              "    .dataframe tbody tr th {\n",
              "        vertical-align: top;\n",
              "    }\n",
              "\n",
              "    .dataframe thead th {\n",
              "        text-align: right;\n",
              "    }\n",
              "</style>\n",
              "<table border=\"1\" class=\"dataframe\">\n",
              "  <thead>\n",
              "    <tr style=\"text-align: right;\">\n",
              "      <th></th>\n",
              "      <th>0</th>\n",
              "      <th>1</th>\n",
              "      <th>cluster</th>\n",
              "    </tr>\n",
              "  </thead>\n",
              "  <tbody>\n",
              "    <tr>\n",
              "      <th>0</th>\n",
              "      <td>45</td>\n",
              "      <td>46</td>\n",
              "      <td>1</td>\n",
              "    </tr>\n",
              "    <tr>\n",
              "      <th>1</th>\n",
              "      <td>40</td>\n",
              "      <td>44</td>\n",
              "      <td>1</td>\n",
              "    </tr>\n",
              "    <tr>\n",
              "      <th>2</th>\n",
              "      <td>41</td>\n",
              "      <td>44</td>\n",
              "      <td>1</td>\n",
              "    </tr>\n",
              "    <tr>\n",
              "      <th>3</th>\n",
              "      <td>38</td>\n",
              "      <td>44</td>\n",
              "      <td>1</td>\n",
              "    </tr>\n",
              "    <tr>\n",
              "      <th>4</th>\n",
              "      <td>43</td>\n",
              "      <td>43</td>\n",
              "      <td>1</td>\n",
              "    </tr>\n",
              "    <tr>\n",
              "      <th>...</th>\n",
              "      <td>...</td>\n",
              "      <td>...</td>\n",
              "      <td>...</td>\n",
              "    </tr>\n",
              "    <tr>\n",
              "      <th>114</th>\n",
              "      <td>59</td>\n",
              "      <td>16</td>\n",
              "      <td>2</td>\n",
              "    </tr>\n",
              "    <tr>\n",
              "      <th>115</th>\n",
              "      <td>60</td>\n",
              "      <td>12</td>\n",
              "      <td>2</td>\n",
              "    </tr>\n",
              "    <tr>\n",
              "      <th>116</th>\n",
              "      <td>59</td>\n",
              "      <td>13</td>\n",
              "      <td>2</td>\n",
              "    </tr>\n",
              "    <tr>\n",
              "      <th>117</th>\n",
              "      <td>60</td>\n",
              "      <td>14</td>\n",
              "      <td>2</td>\n",
              "    </tr>\n",
              "    <tr>\n",
              "      <th>118</th>\n",
              "      <td>59</td>\n",
              "      <td>13</td>\n",
              "      <td>2</td>\n",
              "    </tr>\n",
              "  </tbody>\n",
              "</table>\n",
              "<p>119 rows × 3 columns</p>\n",
              "</div>\n",
              "    <div class=\"colab-df-buttons\">\n",
              "\n",
              "  <div class=\"colab-df-container\">\n",
              "    <button class=\"colab-df-convert\" onclick=\"convertToInteractive('df-8c339ff0-36f0-4e22-b537-0914ef33987f')\"\n",
              "            title=\"Convert this dataframe to an interactive table.\"\n",
              "            style=\"display:none;\">\n",
              "\n",
              "  <svg xmlns=\"http://www.w3.org/2000/svg\" height=\"24px\" viewBox=\"0 -960 960 960\">\n",
              "    <path d=\"M120-120v-720h720v720H120Zm60-500h600v-160H180v160Zm220 220h160v-160H400v160Zm0 220h160v-160H400v160ZM180-400h160v-160H180v160Zm440 0h160v-160H620v160ZM180-180h160v-160H180v160Zm440 0h160v-160H620v160Z\"/>\n",
              "  </svg>\n",
              "    </button>\n",
              "\n",
              "  <style>\n",
              "    .colab-df-container {\n",
              "      display:flex;\n",
              "      gap: 12px;\n",
              "    }\n",
              "\n",
              "    .colab-df-convert {\n",
              "      background-color: #E8F0FE;\n",
              "      border: none;\n",
              "      border-radius: 50%;\n",
              "      cursor: pointer;\n",
              "      display: none;\n",
              "      fill: #1967D2;\n",
              "      height: 32px;\n",
              "      padding: 0 0 0 0;\n",
              "      width: 32px;\n",
              "    }\n",
              "\n",
              "    .colab-df-convert:hover {\n",
              "      background-color: #E2EBFA;\n",
              "      box-shadow: 0px 1px 2px rgba(60, 64, 67, 0.3), 0px 1px 3px 1px rgba(60, 64, 67, 0.15);\n",
              "      fill: #174EA6;\n",
              "    }\n",
              "\n",
              "    .colab-df-buttons div {\n",
              "      margin-bottom: 4px;\n",
              "    }\n",
              "\n",
              "    [theme=dark] .colab-df-convert {\n",
              "      background-color: #3B4455;\n",
              "      fill: #D2E3FC;\n",
              "    }\n",
              "\n",
              "    [theme=dark] .colab-df-convert:hover {\n",
              "      background-color: #434B5C;\n",
              "      box-shadow: 0px 1px 3px 1px rgba(0, 0, 0, 0.15);\n",
              "      filter: drop-shadow(0px 1px 2px rgba(0, 0, 0, 0.3));\n",
              "      fill: #FFFFFF;\n",
              "    }\n",
              "  </style>\n",
              "\n",
              "    <script>\n",
              "      const buttonEl =\n",
              "        document.querySelector('#df-8c339ff0-36f0-4e22-b537-0914ef33987f button.colab-df-convert');\n",
              "      buttonEl.style.display =\n",
              "        google.colab.kernel.accessAllowed ? 'block' : 'none';\n",
              "\n",
              "      async function convertToInteractive(key) {\n",
              "        const element = document.querySelector('#df-8c339ff0-36f0-4e22-b537-0914ef33987f');\n",
              "        const dataTable =\n",
              "          await google.colab.kernel.invokeFunction('convertToInteractive',\n",
              "                                                    [key], {});\n",
              "        if (!dataTable) return;\n",
              "\n",
              "        const docLinkHtml = 'Like what you see? Visit the ' +\n",
              "          '<a target=\"_blank\" href=https://colab.research.google.com/notebooks/data_table.ipynb>data table notebook</a>'\n",
              "          + ' to learn more about interactive tables.';\n",
              "        element.innerHTML = '';\n",
              "        dataTable['output_type'] = 'display_data';\n",
              "        await google.colab.output.renderOutput(dataTable, element);\n",
              "        const docLink = document.createElement('div');\n",
              "        docLink.innerHTML = docLinkHtml;\n",
              "        element.appendChild(docLink);\n",
              "      }\n",
              "    </script>\n",
              "  </div>\n",
              "\n",
              "\n",
              "<div id=\"df-7769c93d-bc27-40bb-a3c3-fd6992990039\">\n",
              "  <button class=\"colab-df-quickchart\" onclick=\"quickchart('df-7769c93d-bc27-40bb-a3c3-fd6992990039')\"\n",
              "            title=\"Suggest charts\"\n",
              "            style=\"display:none;\">\n",
              "\n",
              "<svg xmlns=\"http://www.w3.org/2000/svg\" height=\"24px\"viewBox=\"0 0 24 24\"\n",
              "     width=\"24px\">\n",
              "    <g>\n",
              "        <path d=\"M19 3H5c-1.1 0-2 .9-2 2v14c0 1.1.9 2 2 2h14c1.1 0 2-.9 2-2V5c0-1.1-.9-2-2-2zM9 17H7v-7h2v7zm4 0h-2V7h2v10zm4 0h-2v-4h2v4z\"/>\n",
              "    </g>\n",
              "</svg>\n",
              "  </button>\n",
              "\n",
              "<style>\n",
              "  .colab-df-quickchart {\n",
              "      --bg-color: #E8F0FE;\n",
              "      --fill-color: #1967D2;\n",
              "      --hover-bg-color: #E2EBFA;\n",
              "      --hover-fill-color: #174EA6;\n",
              "      --disabled-fill-color: #AAA;\n",
              "      --disabled-bg-color: #DDD;\n",
              "  }\n",
              "\n",
              "  [theme=dark] .colab-df-quickchart {\n",
              "      --bg-color: #3B4455;\n",
              "      --fill-color: #D2E3FC;\n",
              "      --hover-bg-color: #434B5C;\n",
              "      --hover-fill-color: #FFFFFF;\n",
              "      --disabled-bg-color: #3B4455;\n",
              "      --disabled-fill-color: #666;\n",
              "  }\n",
              "\n",
              "  .colab-df-quickchart {\n",
              "    background-color: var(--bg-color);\n",
              "    border: none;\n",
              "    border-radius: 50%;\n",
              "    cursor: pointer;\n",
              "    display: none;\n",
              "    fill: var(--fill-color);\n",
              "    height: 32px;\n",
              "    padding: 0;\n",
              "    width: 32px;\n",
              "  }\n",
              "\n",
              "  .colab-df-quickchart:hover {\n",
              "    background-color: var(--hover-bg-color);\n",
              "    box-shadow: 0 1px 2px rgba(60, 64, 67, 0.3), 0 1px 3px 1px rgba(60, 64, 67, 0.15);\n",
              "    fill: var(--button-hover-fill-color);\n",
              "  }\n",
              "\n",
              "  .colab-df-quickchart-complete:disabled,\n",
              "  .colab-df-quickchart-complete:disabled:hover {\n",
              "    background-color: var(--disabled-bg-color);\n",
              "    fill: var(--disabled-fill-color);\n",
              "    box-shadow: none;\n",
              "  }\n",
              "\n",
              "  .colab-df-spinner {\n",
              "    border: 2px solid var(--fill-color);\n",
              "    border-color: transparent;\n",
              "    border-bottom-color: var(--fill-color);\n",
              "    animation:\n",
              "      spin 1s steps(1) infinite;\n",
              "  }\n",
              "\n",
              "  @keyframes spin {\n",
              "    0% {\n",
              "      border-color: transparent;\n",
              "      border-bottom-color: var(--fill-color);\n",
              "      border-left-color: var(--fill-color);\n",
              "    }\n",
              "    20% {\n",
              "      border-color: transparent;\n",
              "      border-left-color: var(--fill-color);\n",
              "      border-top-color: var(--fill-color);\n",
              "    }\n",
              "    30% {\n",
              "      border-color: transparent;\n",
              "      border-left-color: var(--fill-color);\n",
              "      border-top-color: var(--fill-color);\n",
              "      border-right-color: var(--fill-color);\n",
              "    }\n",
              "    40% {\n",
              "      border-color: transparent;\n",
              "      border-right-color: var(--fill-color);\n",
              "      border-top-color: var(--fill-color);\n",
              "    }\n",
              "    60% {\n",
              "      border-color: transparent;\n",
              "      border-right-color: var(--fill-color);\n",
              "    }\n",
              "    80% {\n",
              "      border-color: transparent;\n",
              "      border-right-color: var(--fill-color);\n",
              "      border-bottom-color: var(--fill-color);\n",
              "    }\n",
              "    90% {\n",
              "      border-color: transparent;\n",
              "      border-bottom-color: var(--fill-color);\n",
              "    }\n",
              "  }\n",
              "</style>\n",
              "\n",
              "  <script>\n",
              "    async function quickchart(key) {\n",
              "      const quickchartButtonEl =\n",
              "        document.querySelector('#' + key + ' button');\n",
              "      quickchartButtonEl.disabled = true;  // To prevent multiple clicks.\n",
              "      quickchartButtonEl.classList.add('colab-df-spinner');\n",
              "      try {\n",
              "        const charts = await google.colab.kernel.invokeFunction(\n",
              "            'suggestCharts', [key], {});\n",
              "      } catch (error) {\n",
              "        console.error('Error during call to suggestCharts:', error);\n",
              "      }\n",
              "      quickchartButtonEl.classList.remove('colab-df-spinner');\n",
              "      quickchartButtonEl.classList.add('colab-df-quickchart-complete');\n",
              "    }\n",
              "    (() => {\n",
              "      let quickchartButtonEl =\n",
              "        document.querySelector('#df-7769c93d-bc27-40bb-a3c3-fd6992990039 button');\n",
              "      quickchartButtonEl.style.display =\n",
              "        google.colab.kernel.accessAllowed ? 'block' : 'none';\n",
              "    })();\n",
              "  </script>\n",
              "</div>\n",
              "\n",
              "  <div id=\"id_503cb3cf-145b-41a5-ab45-feadc843147c\">\n",
              "    <style>\n",
              "      .colab-df-generate {\n",
              "        background-color: #E8F0FE;\n",
              "        border: none;\n",
              "        border-radius: 50%;\n",
              "        cursor: pointer;\n",
              "        display: none;\n",
              "        fill: #1967D2;\n",
              "        height: 32px;\n",
              "        padding: 0 0 0 0;\n",
              "        width: 32px;\n",
              "      }\n",
              "\n",
              "      .colab-df-generate:hover {\n",
              "        background-color: #E2EBFA;\n",
              "        box-shadow: 0px 1px 2px rgba(60, 64, 67, 0.3), 0px 1px 3px 1px rgba(60, 64, 67, 0.15);\n",
              "        fill: #174EA6;\n",
              "      }\n",
              "\n",
              "      [theme=dark] .colab-df-generate {\n",
              "        background-color: #3B4455;\n",
              "        fill: #D2E3FC;\n",
              "      }\n",
              "\n",
              "      [theme=dark] .colab-df-generate:hover {\n",
              "        background-color: #434B5C;\n",
              "        box-shadow: 0px 1px 3px 1px rgba(0, 0, 0, 0.15);\n",
              "        filter: drop-shadow(0px 1px 2px rgba(0, 0, 0, 0.3));\n",
              "        fill: #FFFFFF;\n",
              "      }\n",
              "    </style>\n",
              "    <button class=\"colab-df-generate\" onclick=\"generateWithVariable('df')\"\n",
              "            title=\"Generate code using this dataframe.\"\n",
              "            style=\"display:none;\">\n",
              "\n",
              "  <svg xmlns=\"http://www.w3.org/2000/svg\" height=\"24px\"viewBox=\"0 0 24 24\"\n",
              "       width=\"24px\">\n",
              "    <path d=\"M7,19H8.4L18.45,9,17,7.55,7,17.6ZM5,21V16.75L18.45,3.32a2,2,0,0,1,2.83,0l1.4,1.43a1.91,1.91,0,0,1,.58,1.4,1.91,1.91,0,0,1-.58,1.4L9.25,21ZM18.45,9,17,7.55Zm-12,3A5.31,5.31,0,0,0,4.9,8.1,5.31,5.31,0,0,0,1,6.5,5.31,5.31,0,0,0,4.9,4.9,5.31,5.31,0,0,0,6.5,1,5.31,5.31,0,0,0,8.1,4.9,5.31,5.31,0,0,0,12,6.5,5.46,5.46,0,0,0,6.5,12Z\"/>\n",
              "  </svg>\n",
              "    </button>\n",
              "    <script>\n",
              "      (() => {\n",
              "      const buttonEl =\n",
              "        document.querySelector('#id_503cb3cf-145b-41a5-ab45-feadc843147c button.colab-df-generate');\n",
              "      buttonEl.style.display =\n",
              "        google.colab.kernel.accessAllowed ? 'block' : 'none';\n",
              "\n",
              "      buttonEl.onclick = () => {\n",
              "        google.colab.notebook.generateWithVariable('df');\n",
              "      }\n",
              "      })();\n",
              "    </script>\n",
              "  </div>\n",
              "\n",
              "    </div>\n",
              "  </div>\n"
            ],
            "application/vnd.google.colaboratory.intrinsic+json": {
              "type": "dataframe",
              "variable_name": "df",
              "summary": "{\n  \"name\": \"df\",\n  \"rows\": 119,\n  \"fields\": [\n    {\n      \"column\": 0,\n      \"properties\": {\n        \"dtype\": \"number\",\n        \"std\": 17,\n        \"min\": 10,\n        \"max\": 63,\n        \"num_unique_values\": 36,\n        \"samples\": [\n          59,\n          47,\n          62\n        ],\n        \"semantic_type\": \"\",\n        \"description\": \"\"\n      }\n    },\n    {\n      \"column\": 1,\n      \"properties\": {\n        \"dtype\": \"number\",\n        \"std\": 8,\n        \"min\": 12,\n        \"max\": 46,\n        \"num_unique_values\": 32,\n        \"samples\": [\n          12,\n          29,\n          16\n        ],\n        \"semantic_type\": \"\",\n        \"description\": \"\"\n      }\n    },\n    {\n      \"column\": \"cluster\",\n      \"properties\": {\n        \"dtype\": \"number\",\n        \"std\": 0,\n        \"min\": 0,\n        \"max\": 2,\n        \"num_unique_values\": 3,\n        \"samples\": [\n          1,\n          0,\n          2\n        ],\n        \"semantic_type\": \"\",\n        \"description\": \"\"\n      }\n    }\n  ]\n}"
            }
          },
          "metadata": {},
          "execution_count": 51
        }
      ],
      "source": [
        "df"
      ]
    },
    {
      "cell_type": "markdown",
      "source": [
        "Clustering visualization"
      ],
      "metadata": {
        "id": "WI5qfbvHz3_C"
      },
      "id": "WI5qfbvHz3_C"
    },
    {
      "cell_type": "code",
      "execution_count": null,
      "id": "e4ff767f-15b5-4b0d-a343-50529a406dd5",
      "metadata": {
        "colab": {
          "base_uri": "https://localhost:8080/",
          "height": 449
        },
        "id": "e4ff767f-15b5-4b0d-a343-50529a406dd5",
        "outputId": "6bb1b8b4-f4a2-49cc-8c02-6fb86757b4d8"
      },
      "outputs": [
        {
          "output_type": "display_data",
          "data": {
            "text/plain": [
              "<Figure size 640x480 with 1 Axes>"
            ],
            "image/png": "[encoded data removed]"
          },
          "metadata": {}
        }
      ],
      "source": [
        "# Assuming df1, df2, and df3 are slices of your DataFrame for different clusters\n",
        "plt.scatter(df[df['cluster'] == 0][0], df[df['cluster'] == 0][1], color='green', label='Cluster 1')\n",
        "plt.scatter(df[df['cluster'] == 1][0], df[df['cluster'] == 1][1], color='red', label='Cluster 2')\n",
        "plt.scatter(df[df['cluster'] == 2][0], df[df['cluster'] == 2][1], color='blue', label='Cluster 3')\n",
        "\n",
        "\n",
        "plt.scatter(centroids[:, 0], centroids[:, 1], color='black', marker='*', label='Centroid')\n",
        "plt.xlabel('X')\n",
        "plt.ylabel('Y')\n",
        "plt.legend()\n",
        "plt.show()"
      ]
    },
    {
      "cell_type": "markdown",
      "source": [
        "Calculating distance"
      ],
      "metadata": {
        "id": "XlgBG5s_z-lh"
      },
      "id": "XlgBG5s_z-lh"
    },
    {
      "cell_type": "code",
      "execution_count": null,
      "id": "d925e54c-9332-4e94-b7ad-409059b13327",
      "metadata": {
        "id": "d925e54c-9332-4e94-b7ad-409059b13327"
      },
      "outputs": [],
      "source": [
        "#calculating distance\n",
        "p = np.array(centroids)\n",
        "point_1 = p[0]\n",
        "point_2 = p[1]\n",
        "point_3 = p[2]\n",
        "\n",
        "a = np.sqrt(np.sum((point_1 - point_2)**2))\n",
        "b = np.sqrt(np.sum((point_2 - point_3)**2))\n",
        "c = np.sqrt(np.sum((point_1 - point_3)**2))"
      ]
    },
    {
      "cell_type": "code",
      "execution_count": null,
      "id": "895b19b9-3fde-4fef-9b4b-d376207aa1a1",
      "metadata": {
        "colab": {
          "base_uri": "https://localhost:8080/"
        },
        "id": "895b19b9-3fde-4fef-9b4b-d376207aa1a1",
        "outputId": "0f7f1f82-9d02-4bee-8a5a-3d6e5c77607e"
      },
      "outputs": [
        {
          "output_type": "stream",
          "name": "stdout",
          "text": [
            "                  Clusters  Distances\n",
            "0  cluster_1 and cluster_2  25.460471\n",
            "1  cluster_2 and cluster_3  25.518510\n",
            "2  cluster_1 and cluster_3  44.145647\n"
          ]
        }
      ],
      "source": [
        "Distance = np.array([a,b,c])\n",
        "Clusters = np.array([\"cluster_1 and cluster_2\",\"cluster_2 and cluster_3\",\"cluster_1 and cluster_3\"])\n",
        "dict = {'Clusters' : [\"cluster_1 and cluster_2\",\"cluster_2 and cluster_3\",\"cluster_1 and cluster_3\"],\n",
        "        'Distances' : [a ,b, c]}\n",
        "\n",
        "Table = pd.DataFrame(dict)\n",
        "\n",
        "print(Table)\n"
      ]
    },
    {
      "cell_type": "markdown",
      "id": "7489a45c-11f2-4d71-a3aa-a87d5cfab9b1",
      "metadata": {
        "id": "7489a45c-11f2-4d71-a3aa-a87d5cfab9b1"
      },
      "source": [
        "## for IMG 2"
      ]
    },
    {
      "cell_type": "code",
      "execution_count": null,
      "id": "2a7e6f10-7e07-4a15-bd8d-7ac032f50961",
      "metadata": {
        "colab": {
          "base_uri": "https://localhost:8080/"
        },
        "id": "2a7e6f10-7e07-4a15-bd8d-7ac032f50961",
        "outputId": "7d3014e4-9ad7-49a6-d11b-c6725c029ea3"
      },
      "outputs": [
        {
          "output_type": "stream",
          "name": "stderr",
          "text": [
            "Retrieving folder contents\n"
          ]
        },
        {
          "output_type": "stream",
          "name": "stdout",
          "text": [
            "Processing file 1EFq08RjJn1NlWbcIBFfVYCMruCM8ZBt_ Rotated_img_2.png\n"
          ]
        },
        {
          "output_type": "stream",
          "name": "stderr",
          "text": [
            "Retrieving folder contents completed\n",
            "Building directory structure\n",
            "Building directory structure completed\n",
            "Downloading...\n",
            "From: https://drive.google.com/uc?id=1EFq08RjJn1NlWbcIBFfVYCMruCM8ZBt_\n",
            "To: /content/train_images_2/Rotated_img_2.png\n",
            "100%|██████████| 428/428 [00:00<00:00, 1.19MB/s]\n",
            "Download completed\n"
          ]
        }
      ],
      "source": [
        "url_2 = 'https://drive.google.com/drive/folders/18mULKIjVRFXH6gEj5AdEkK1oZ7pYuA7p?usp=sharing'\n",
        "output_dir_2 = 'train_images_2'\n",
        "\n",
        "gdown.download_folder(url_2, output=output_dir_2, quiet=False)\n",
        "\n",
        "\n",
        "train_dir_2 = output_dir_2\n",
        "\n",
        "# train_dir_2 = 'IMG_22'\n",
        "all_points_2 = []\n",
        "\n",
        "for filename in os.listdir(train_dir_2):\n",
        "    if filename.endswith('.png'):\n",
        "        image_path_2 = os.path.join(train_dir_2,filename)\n",
        "        points_2 = process_image(image_path_2)\n",
        "        all_points_2.extend(points_2)"
      ]
    },
    {
      "cell_type": "markdown",
      "source": [
        "editing the image"
      ],
      "metadata": {
        "id": "zZHLjHAvi3PC"
      },
      "id": "zZHLjHAvi3PC"
    },
    {
      "cell_type": "code",
      "execution_count": null,
      "id": "276e2645-adb4-4627-bb14-fb0c75b539e0",
      "metadata": {
        "id": "276e2645-adb4-4627-bb14-fb0c75b539e0"
      },
      "outputs": [],
      "source": [
        "# path_2 = 'IMG_2/2.png'\n",
        "# img_44 = cv2.imread(path_2)\n",
        "\n",
        "# angle_2 = -180\n",
        "# height_2, width_2 = img_44.shape[:2]\n",
        "# center_2 = (width_2/2, height_2/2)\n",
        "\n",
        "# rotation_matrix_2 = cv2.getRotationMatrix2D(center_2, angle_2, 1.0)\n",
        "# rotated_img_2 = cv2.warpAffine(img_44, rotation_matrix_2, (width_2, height_2))\n",
        "\n",
        "# # cv2.imwrite(\"Rotated_img_2.png\",rotated_img_2)\n",
        "# # cv2.imshow('Image',rotated_img_2)\n",
        "# # cv2.waitKey(0)"
      ]
    },
    {
      "cell_type": "code",
      "execution_count": null,
      "id": "47b8b800-2934-4805-85f4-299d0f20de39",
      "metadata": {
        "colab": {
          "base_uri": "https://localhost:8080/"
        },
        "id": "47b8b800-2934-4805-85f4-299d0f20de39",
        "outputId": "4bfa9af0-d475-428b-93f7-07c60b29f6e4"
      },
      "outputs": [
        {
          "output_type": "execute_result",
          "data": {
            "text/plain": [
              "[39,\n",
              " 43,\n",
              " 36,\n",
              " 43,\n",
              " 29,\n",
              " 43,\n",
              " 33,\n",
              " 42,\n",
              " 28,\n",
              " 41,\n",
              " array([35, 39], dtype=int32),\n",
              " array([36, 40], dtype=int32),\n",
              " array([35, 41], dtype=int32),\n",
              " array([36, 40], dtype=int32),\n",
              " array([37, 41], dtype=int32),\n",
              " array([38, 41], dtype=int32),\n",
              " array([39, 40], dtype=int32),\n",
              " array([38, 40], dtype=int32),\n",
              " array([37, 41], dtype=int32),\n",
              " array([31, 38], dtype=int32),\n",
              " array([30, 39], dtype=int32),\n",
              " 28,\n",
              " 36,\n",
              " 41,\n",
              " 34,\n",
              " array([39, 34], dtype=int32),\n",
              " array([38, 35], dtype=int32),\n",
              " array([38, 36], dtype=int32),\n",
              " array([37, 37], dtype=int32),\n",
              " array([36, 36], dtype=int32),\n",
              " array([34, 36], dtype=int32),\n",
              " array([33, 37], dtype=int32),\n",
              " array([32, 36], dtype=int32),\n",
              " array([33, 37], dtype=int32),\n",
              " array([33, 39], dtype=int32),\n",
              " array([33, 38], dtype=int32),\n",
              " array([34, 37], dtype=int32),\n",
              " array([37, 37], dtype=int32),\n",
              " array([38, 38], dtype=int32),\n",
              " array([39, 37], dtype=int32),\n",
              " array([40, 38], dtype=int32),\n",
              " array([39, 37], dtype=int32),\n",
              " array([39, 36], dtype=int32),\n",
              " array([38, 35], dtype=int32),\n",
              " 36,\n",
              " 34,\n",
              " array([33, 33], dtype=int32),\n",
              " array([32, 34], dtype=int32),\n",
              " array([33, 33], dtype=int32),\n",
              " array([34, 34], dtype=int32),\n",
              " 35,\n",
              " 31,\n",
              " 28,\n",
              " 25,\n",
              " array([25, 25], dtype=int32),\n",
              " array([26, 25], dtype=int32),\n",
              " 38,\n",
              " 24,\n",
              " array([20, 24], dtype=int32),\n",
              " array([20, 25], dtype=int32),\n",
              " array([45, 20], dtype=int32),\n",
              " array([44, 21], dtype=int32),\n",
              " array([41, 20], dtype=int32),\n",
              " array([41, 21], dtype=int32),\n",
              " array([38, 20], dtype=int32),\n",
              " array([39, 20], dtype=int32),\n",
              " array([20, 20], dtype=int32),\n",
              " array([20, 21], dtype=int32),\n",
              " array([19, 22], dtype=int32),\n",
              " array([20, 22], dtype=int32),\n",
              " 13,\n",
              " 19,\n",
              " 50,\n",
              " 18,\n",
              " 46,\n",
              " 18,\n",
              " array([40, 17], dtype=int32),\n",
              " array([39, 18], dtype=int32),\n",
              " array([20, 17], dtype=int32),\n",
              " array([20, 18], dtype=int32),\n",
              " array([21, 18], dtype=int32),\n",
              " array([24, 21], dtype=int32),\n",
              " array([22, 23], dtype=int32),\n",
              " array([23, 23], dtype=int32),\n",
              " array([23, 22], dtype=int32),\n",
              " array([25, 20], dtype=int32),\n",
              " array([26, 21], dtype=int32),\n",
              " array([26, 22], dtype=int32),\n",
              " array([27, 21], dtype=int32),\n",
              " array([27, 19], dtype=int32),\n",
              " array([26, 18], dtype=int32),\n",
              " array([25, 18], dtype=int32),\n",
              " array([25, 19], dtype=int32),\n",
              " array([24, 20], dtype=int32),\n",
              " array([22, 18], dtype=int32),\n",
              " array([22, 17], dtype=int32),\n",
              " 46,\n",
              " 16,\n",
              " 44,\n",
              " 16,\n",
              " 38,\n",
              " 16,\n",
              " array([26, 16], dtype=int32),\n",
              " array([28, 16], dtype=int32),\n",
              " 24,\n",
              " 16,\n",
              " 21,\n",
              " 15,\n",
              " 36,\n",
              " 14,\n",
              " 18,\n",
              " 14,\n",
              " 29,\n",
              " 13,\n",
              " 27,\n",
              " 13,\n",
              " 24,\n",
              " 13,\n",
              " 37,\n",
              " 12,\n",
              " array([40, 11], dtype=int32),\n",
              " array([40, 12], dtype=int32),\n",
              " array([39, 13], dtype=int32),\n",
              " array([40, 12], dtype=int32),\n",
              " array([42, 14], dtype=int32),\n",
              " array([43, 14], dtype=int32),\n",
              " array([44, 13], dtype=int32),\n",
              " array([45, 14], dtype=int32),\n",
              " array([43, 12], dtype=int32),\n",
              " array([42, 13], dtype=int32),\n",
              " array([41, 13], dtype=int32),\n",
              " array([40, 12], dtype=int32),\n",
              " 27,\n",
              " 11,\n",
              " 38,\n",
              " 10,\n",
              " 36,\n",
              " 8,\n",
              " 31,\n",
              " 8]"
            ]
          },
          "metadata": {},
          "execution_count": 13
        }
      ],
      "source": [
        "all_points_2"
      ]
    },
    {
      "cell_type": "code",
      "source": [
        "formatted_data_3 = [to_np_array(elem) for elem in all_points_2]\n",
        "formatted_data_4 = pair_lone_numbers(formatted_data_3)\n"
      ],
      "metadata": {
        "id": "aT_95_EwlHWJ"
      },
      "id": "aT_95_EwlHWJ",
      "execution_count": null,
      "outputs": []
    },
    {
      "cell_type": "code",
      "execution_count": null,
      "id": "0596271c-232a-420b-a657-c3e172a5cfed",
      "metadata": {
        "colab": {
          "base_uri": "https://localhost:8080/",
          "height": 472
        },
        "id": "0596271c-232a-420b-a657-c3e172a5cfed",
        "outputId": "9d8fd062-cbad-4c24-a520-b8e873e9a1d9"
      },
      "outputs": [
        {
          "output_type": "display_data",
          "data": {
            "text/plain": [
              "<Figure size 640x480 with 1 Axes>"
            ],
            "image/png": "[encoded data removed]"
          },
          "metadata": {}
        }
      ],
      "source": [
        "coordinates_2 = np.array(formatted_data_4)\n",
        "plt.scatter(coordinates_2[:, 0], coordinates_2[:, 1])\n",
        "plt.xlabel('X')\n",
        "plt.ylabel('Y')\n",
        "plt.title('Illumination in urban areas for image 2')\n",
        "\n",
        "\n",
        "plt.show()"
      ]
    },
    {
      "cell_type": "code",
      "execution_count": null,
      "id": "434d9a9f-15ac-4413-a361-9e96a2702df0",
      "metadata": {
        "colab": {
          "base_uri": "https://localhost:8080/",
          "height": 471
        },
        "id": "434d9a9f-15ac-4413-a361-9e96a2702df0",
        "outputId": "eecd1378-6370-4fd7-8f2e-13c9d0ce0d3f"
      },
      "outputs": [
        {
          "output_type": "execute_result",
          "data": {
            "text/plain": [
              "[<matplotlib.lines.Line2D at 0x7f1310d9b250>]"
            ]
          },
          "metadata": {},
          "execution_count": 23
        },
        {
          "output_type": "display_data",
          "data": {
            "text/plain": [
              "<Figure size 640x480 with 1 Axes>"
            ],
            "image/png": "[encoded data removed]"
          },
          "metadata": {}
        }
      ],
      "source": [
        "def initialize_centeroids_2(k,iter = 3000):\n",
        "    sum_x = np.zeros(k)\n",
        "    sum_y = np.zeros(k)\n",
        "\n",
        "    for i in range(iter):\n",
        "        x_coor = np.random.uniform(20,40,k)\n",
        "        y_coor = np.random.uniform(25,45,k)\n",
        "        sum_x += x_coor\n",
        "        sum_y += y_coor\n",
        "    x_avg = sum_x/iter\n",
        "    y_avg = sum_y/iter\n",
        "\n",
        "    centroidS = np.column_stack((x_avg,y_avg))\n",
        "\n",
        "    return centroidS\n",
        "\n",
        "k_rng_2 = range(1,5)\n",
        "costs_2 = []\n",
        "\n",
        "for k in k_rng_2:\n",
        "    Initial_centroids_2 = initialize_centeroids_2(k)\n",
        "    idx_2 = find_closest_centroids(coordinates_2,Initial_centroids_2)\n",
        "    centroids_2 = compute_centroids(coordinates_2, idx_2 , k)\n",
        "    cost_2 = calculate_cost(coordinates_2, centroids_2, idx_2)\n",
        "    costs_2.append(cost_2)\n",
        "\n",
        "\n",
        "\n",
        "plt.xlabel('k')\n",
        "plt.ylabel('sq error')\n",
        "plt.plot(k_rng_2,costs_2)"
      ]
    },
    {
      "cell_type": "markdown",
      "id": "bfe75ce5-9a29-4f11-b51d-2f0083495cbf",
      "metadata": {
        "id": "bfe75ce5-9a29-4f11-b51d-2f0083495cbf"
      },
      "source": [
        "#Observing the Graph and manuall observation of the datapoints\n",
        "## K Should be 3"
      ]
    },
    {
      "cell_type": "code",
      "execution_count": null,
      "id": "513fc316-791d-464d-adc9-3baba5f932d4",
      "metadata": {
        "colab": {
          "base_uri": "https://localhost:8080/"
        },
        "id": "513fc316-791d-464d-adc9-3baba5f932d4",
        "outputId": "84696bfc-1fa7-4871-bd4e-fdf4edf3155f"
      },
      "outputs": [
        {
          "output_type": "stream",
          "name": "stdout",
          "text": [
            "The centroids are: [[23.52631579 18.89473684]\n",
            " [35.3255814  37.60465116]\n",
            " [41.16666667 15.4       ]]\n",
            "Cluster Labels: [1 1 1 1 1 1 1 1 1 1 1 1 1 1 1 1 1 1 1 1 1 1 1 1 1 1 1 1 1 1 1 1 1 1 1 1 1\n",
            " 1 1 1 1 1 1 0 0 0 2 0 0 2 2 2 2 2 2 0 0 0 0 0 2 2 2 2 0 0 0 0 0 0 0 0 0 0\n",
            " 0 0 0 0 0 0 0 0 2 2 2 0 0 0 0 2 0 0 0 0 2 2 2 2 2 2 2 2 2 2 2 2 2 0 2 2 2]\n"
          ]
        }
      ],
      "source": [
        "initial_centroids_2 = np.array([[22, 17],[35, 35],[43, 15]])  #guessing manually seeing the graph\n",
        "idx_2 = find_closest_centroids(coordinates_2, initial_centroids_2)\n",
        "\n",
        "K = 3\n",
        "centroids_2 = compute_centroids(coordinates_2, idx_2, K)\n",
        "\n",
        "print(\"The centroids are:\", centroids_2)\n",
        "\n",
        "distances_2 = np.linalg.norm(coordinates_2[:, np.newaxis] - centroids_2, axis=2)\n",
        "\n",
        "# assigning each data point to the cluster with the minimum distance\n",
        "cluster_labels_2 = np.argmin(distances_2, axis=1)\n",
        "\n",
        "print(\"Cluster Labels:\", cluster_labels_2)\n",
        "\n",
        "df_2 = pd.DataFrame(coordinates_2)\n",
        "df_2['cluster'] = cluster_labels_2\n"
      ]
    },
    {
      "cell_type": "code",
      "execution_count": null,
      "id": "7086fd32-d989-45d6-b2a9-5cfaf4314737",
      "metadata": {
        "colab": {
          "base_uri": "https://localhost:8080/",
          "height": 449
        },
        "id": "7086fd32-d989-45d6-b2a9-5cfaf4314737",
        "outputId": "2c085c3c-1dc8-4398-e731-39748c97940f"
      },
      "outputs": [
        {
          "output_type": "display_data",
          "data": {
            "text/plain": [
              "<Figure size 640x480 with 1 Axes>"
            ],
            "image/png": "[encoded data removed]"
          },
          "metadata": {}
        }
      ],
      "source": [
        "\n",
        "\n",
        "plt.scatter(df_2[df_2['cluster'] == 0][0], df_2[df_2['cluster'] == 0][1], color='green', label='Cluster 1')\n",
        "plt.scatter(df_2[df_2['cluster'] == 1][0], df_2[df_2['cluster'] == 1][1], color='red', label='Cluster 2')\n",
        "plt.scatter(df_2[df_2['cluster'] == 2][0], df_2[df_2['cluster'] == 2][1], color='blue', label='Cluster 3')\n",
        "\n",
        "\n",
        "plt.scatter(centroids_2[:, 0], centroids_2[:, 1], color='black', marker='*', label='Centroid')\n",
        "plt.xlabel('X')\n",
        "plt.ylabel('Y')\n",
        "plt.legend()\n",
        "plt.show()"
      ]
    },
    {
      "cell_type": "code",
      "execution_count": null,
      "id": "ae6646d0-58de-4913-8c37-f4a49e8ada73",
      "metadata": {
        "colab": {
          "base_uri": "https://localhost:8080/"
        },
        "id": "ae6646d0-58de-4913-8c37-f4a49e8ada73",
        "outputId": "91f6c8fb-97b3-48cb-e3f6-acaf3d9a2620"
      },
      "outputs": [
        {
          "output_type": "stream",
          "name": "stdout",
          "text": [
            "                  Clusters  Distances\n",
            "0  cluster_1 and cluster_2  22.119755\n",
            "1  cluster_2 and cluster_3  22.960070\n",
            "2  cluster_1 and cluster_3  17.983191\n"
          ]
        }
      ],
      "source": [
        "#calculating distance\n",
        "p_2 = np.array(centroids_2)\n",
        "point_1_2 = p_2[0]\n",
        "point_2_2 = p_2[1]\n",
        "point_3_2 = p_2[2]\n",
        "\n",
        "a_2 = np.sqrt(np.sum((point_1_2 - point_2_2)**2))\n",
        "b_2 = np.sqrt(np.sum((point_2_2 - point_3_2)**2))\n",
        "c_2 = np.sqrt(np.sum((point_1_2 - point_3_2)**2))\n",
        "\n",
        "Distance_2 = np.array([a_2,b_2,c_2])\n",
        "Clusters_2 = np.array([\"cluster_1 and cluster_2\",\"cluster_2 and cluster_3\",\"cluster_1 and cluster_3\"])\n",
        "dict_2 = {'Clusters' : [\"cluster_1 and cluster_2\",\"cluster_2 and cluster_3\",\"cluster_1 and cluster_3\"],\n",
        "        'Distances' : [a_2 ,b_2, c_2]}\n",
        "\n",
        "Table = pd.DataFrame(dict_2)\n",
        "\n",
        "print(Table)"
      ]
    },
    {
      "cell_type": "markdown",
      "id": "67eb4c17-8717-485d-865f-4be6f8515dd8",
      "metadata": {
        "id": "67eb4c17-8717-485d-865f-4be6f8515dd8"
      },
      "source": [
        "## IMG_3\n"
      ]
    },
    {
      "cell_type": "code",
      "execution_count": null,
      "id": "0507f1d0-469e-478f-ab55-6953be427eeb",
      "metadata": {
        "colab": {
          "base_uri": "https://localhost:8080/"
        },
        "id": "0507f1d0-469e-478f-ab55-6953be427eeb",
        "outputId": "b9149864-580b-495e-8d50-8bfa4783fbe7"
      },
      "outputs": [
        {
          "output_type": "stream",
          "name": "stderr",
          "text": [
            "Retrieving folder contents\n"
          ]
        },
        {
          "output_type": "stream",
          "name": "stdout",
          "text": [
            "Processing file 1Y36fIRLIazC-3Uq5_q34gah3HndE8iNE 3.png\n"
          ]
        },
        {
          "output_type": "stream",
          "name": "stderr",
          "text": [
            "Retrieving folder contents completed\n",
            "Building directory structure\n",
            "Building directory structure completed\n",
            "Downloading...\n",
            "From: https://drive.google.com/uc?id=1Y36fIRLIazC-3Uq5_q34gah3HndE8iNE\n",
            "To: /content/train_images_3/3.png\n",
            "100%|██████████| 619/619 [00:00<00:00, 1.61MB/s]\n",
            "Download completed\n"
          ]
        }
      ],
      "source": [
        "url_3 = 'https://drive.google.com/drive/folders/1NqDL-52w9N_OTo4EwIXkfh26I_j9s4Xf?usp=sharing'\n",
        "output_dir_3 = 'train_images_3'\n",
        "\n",
        "gdown.download_folder(url_3, output=output_dir_3, quiet=False)\n",
        "\n",
        "\n",
        "train_dir_3 = output_dir_3\n",
        "\n",
        "\n",
        "# train_dir_3 = 'IMG_3'\n",
        "all_points_3 = []\n",
        "\n",
        "for filename in os.listdir(train_dir_3):\n",
        "    if filename.endswith('.png'):\n",
        "        image_path = os.path.join(train_dir_3,filename)\n",
        "        points = process_image(image_path)\n",
        "        all_points_3.extend(points)"
      ]
    },
    {
      "cell_type": "code",
      "execution_count": null,
      "id": "d6bacfac-5309-46a7-9d64-a46eb555d932",
      "metadata": {
        "id": "d6bacfac-5309-46a7-9d64-a46eb555d932"
      },
      "outputs": [],
      "source": [
        "# all_points_3"
      ]
    },
    {
      "cell_type": "code",
      "source": [
        "formatted_data_5 = [to_np_array(elem) for elem in all_points_3]\n",
        "formatted_data_6 = pair_lone_numbers(formatted_data_5)"
      ],
      "metadata": {
        "id": "ufM29wKomFe1"
      },
      "id": "ufM29wKomFe1",
      "execution_count": null,
      "outputs": []
    },
    {
      "cell_type": "code",
      "execution_count": null,
      "id": "948760fc-bdf9-4571-943e-8a7b50d7afbf",
      "metadata": {
        "colab": {
          "base_uri": "https://localhost:8080/",
          "height": 472
        },
        "id": "948760fc-bdf9-4571-943e-8a7b50d7afbf",
        "outputId": "09fbd73f-d2c4-4f28-f812-275497e1d1ce"
      },
      "outputs": [
        {
          "output_type": "display_data",
          "data": {
            "text/plain": [
              "<Figure size 640x480 with 1 Axes>"
            ],
            "image/png": "[encoded data removed]"
          },
          "metadata": {}
        }
      ],
      "source": [
        "coordinates_3 = np.array(formatted_data_6)\n",
        "plt.scatter(coordinates_3[:, 0], coordinates_3[:, 1])\n",
        "plt.xlabel('X')\n",
        "plt.ylabel('Y')\n",
        "plt.title('Illumination in urban areas for image 3')\n",
        "\n",
        "plt.show()"
      ]
    },
    {
      "cell_type": "code",
      "execution_count": null,
      "id": "2b46c1b0-d85d-4a98-8d1a-e4e497c74bac",
      "metadata": {
        "colab": {
          "base_uri": "https://localhost:8080/",
          "height": 466
        },
        "id": "2b46c1b0-d85d-4a98-8d1a-e4e497c74bac",
        "outputId": "d7bc0950-4996-48fa-f599-2014e20e997b"
      },
      "outputs": [
        {
          "output_type": "execute_result",
          "data": {
            "text/plain": [
              "[<matplotlib.lines.Line2D at 0x7f1310bb6920>]"
            ]
          },
          "metadata": {},
          "execution_count": 29
        },
        {
          "output_type": "display_data",
          "data": {
            "text/plain": [
              "<Figure size 640x480 with 1 Axes>"
            ],
            "image/png": "[encoded data removed]"
          },
          "metadata": {}
        }
      ],
      "source": [
        "def initialize_centeroids_3(k,iter = 3000):\n",
        "    sum_x = np.zeros(k)\n",
        "    sum_y = np.zeros(k)\n",
        "\n",
        "    for i in range(iter):\n",
        "        x_coor = np.random.uniform(20,45,k)\n",
        "        y_coor = np.random.uniform(20,45,k)\n",
        "        sum_x += x_coor\n",
        "        sum_y += y_coor\n",
        "    x_avg = sum_x/iter\n",
        "    y_avg = sum_y/iter\n",
        "\n",
        "    centroidS = np.column_stack((x_avg,y_avg))\n",
        "\n",
        "    return centroidS\n",
        "\n",
        "k_rng_3 = range(1,6)\n",
        "costs_3 = []\n",
        "\n",
        "for k in k_rng_3:\n",
        "    Initial_centroids = initialize_centeroids_3(k)\n",
        "    idx = find_closest_centroids(coordinates_3,Initial_centroids)\n",
        "    centroids = compute_centroids(coordinates_3, idx , k)\n",
        "    cost = calculate_cost(coordinates_3, centroids, idx)\n",
        "    costs_3.append(cost)\n",
        "\n",
        "\n",
        "\n",
        "plt.xlabel('k')\n",
        "plt.ylabel('sq error')\n",
        "plt.plot(k_rng_3,costs_3)"
      ]
    },
    {
      "cell_type": "markdown",
      "id": "6f03b305-46e0-43c2-b7f1-a72ed6351850",
      "metadata": {
        "id": "6f03b305-46e0-43c2-b7f1-a72ed6351850"
      },
      "source": [
        "#Observing the Graph and manuall observation of the datapoints\n",
        "## K Should be 4"
      ]
    },
    {
      "cell_type": "code",
      "execution_count": null,
      "id": "658cfd23-a7ff-4ee9-90f0-1953b8943ac5",
      "metadata": {
        "colab": {
          "base_uri": "https://localhost:8080/"
        },
        "id": "658cfd23-a7ff-4ee9-90f0-1953b8943ac5",
        "outputId": "d1e9ed3e-0dfe-45fe-b906-bd60837cbc67"
      },
      "outputs": [
        {
          "output_type": "stream",
          "name": "stdout",
          "text": [
            "The centroids are: [[ 8.64444444  9.93333333]\n",
            " [ 9.8        49.09090909]\n",
            " [49.          9.57575758]\n",
            " [50.05882353 49.54901961]]\n",
            "Cluster Labels: [3 1 1 3 1 1 1 3 3 3 1 1 3 3 3 3 3 3 3 3 3 3 3 3 3 3 3 3 3 3 3 3 3 3 3 3 3\n",
            " 3 3 3 3 3 3 3 3 3 3 3 3 3 3 3 3 3 3 1 1 1 1 1 1 1 1 1 1 1 1 1 1 1 1 1 1 1\n",
            " 1 1 1 1 1 1 1 1 1 1 1 1 1 1 1 1 1 1 1 1 1 1 1 1 1 1 1 1 1 3 3 3 0 2 2 2 0\n",
            " 0 0 0 0 0 0 0 2 2 2 2 2 2 0 0 0 0 0 0 0 0 0 0 0 0 0 0 0 0 0 2 2 2 2 2 2 2\n",
            " 2 2 2 2 2 2 2 2 2 2 0 0 0 2 2 2 2 0 0 0 0 0 0 0 0 0 0 0 0 0 0 2 0 2 2 0]\n"
          ]
        }
      ],
      "source": [
        "initial_centroids_3 = np.array([[10, 10],[10, 50],[50, 10],[50, 49]])  #guessing manually seeing the graph\n",
        "idx_3 = find_closest_centroids(coordinates_3, initial_centroids_3)\n",
        "\n",
        "K_3 = 4\n",
        "centroids_3 = compute_centroids(coordinates_3, idx_3, K_3)\n",
        "\n",
        "print(\"The centroids are:\", centroids_3)\n",
        "\n",
        "distances_3 = np.linalg.norm(coordinates_3[:, np.newaxis] - centroids_3, axis=2)\n",
        "\n",
        "# assigning each data point to the cluster with the minimum distance\n",
        "cluster_labels_3 = np.argmin(distances_3, axis=1)\n",
        "\n",
        "print(\"Cluster Labels:\", cluster_labels_3)\n",
        "\n",
        "df_3 = pd.DataFrame(coordinates_3)\n",
        "df_3['cluster'] = cluster_labels_3\n"
      ]
    },
    {
      "cell_type": "code",
      "execution_count": null,
      "id": "08c0455b-da04-4ae0-b806-6037f43ff236",
      "metadata": {
        "colab": {
          "base_uri": "https://localhost:8080/",
          "height": 450
        },
        "id": "08c0455b-da04-4ae0-b806-6037f43ff236",
        "outputId": "a215de95-40a6-4b6a-cfdb-7de14009f08a"
      },
      "outputs": [
        {
          "output_type": "display_data",
          "data": {
            "text/plain": [
              "<Figure size 640x480 with 1 Axes>"
            ],
            "image/png": "[encoded data removed]"
          },
          "metadata": {}
        }
      ],
      "source": [
        "plt.scatter(df_3[df_3['cluster'] == 0][0], df_3[df_3['cluster'] == 0][1], color='green', label='Cluster 1')\n",
        "plt.scatter(df_3[df_3['cluster'] == 1][0], df_3[df_3['cluster'] == 1][1], color='red', label='Cluster 2')\n",
        "plt.scatter(df_3[df_3['cluster'] == 2][0], df_3[df_3['cluster'] == 2][1], color='blue', label='Cluster 3')\n",
        "plt.scatter(df_3[df_3['cluster'] == 3][0], df_3[df_3['cluster'] == 3][1], color='purple', label='Cluster 4')\n",
        "\n",
        "\n",
        "plt.scatter(centroids_3[:, 0], centroids_3[:, 1], color='black', marker='*', label='Centroid')\n",
        "plt.xlabel('X')\n",
        "plt.ylabel('Y')\n",
        "plt.legend()\n",
        "plt.show()"
      ]
    },
    {
      "cell_type": "code",
      "execution_count": null,
      "id": "d2cdbd24-81a2-4287-8d43-8837a8f50fad",
      "metadata": {
        "colab": {
          "base_uri": "https://localhost:8080/"
        },
        "id": "d2cdbd24-81a2-4287-8d43-8837a8f50fad",
        "outputId": "f9d01f1e-46bf-498a-f0cb-3f321d8afa7c"
      },
      "outputs": [
        {
          "output_type": "stream",
          "name": "stdout",
          "text": [
            "                  Clusters  Distances\n",
            "0  cluster_1 and cluster_2  39.174622\n",
            "1  cluster_2 and cluster_3  55.660464\n",
            "2  cluster_1 and cluster_3  40.357140\n",
            "3  cluster_1 and cluster_4  57.311023\n",
            "4  cluster_2 and cluster_4  40.261430\n",
            "5  cluster_3 and cluster_4  39.987283\n"
          ]
        }
      ],
      "source": [
        "#calculating distance\n",
        "p_3 = np.array(centroids_3)\n",
        "point_1_3 = p_3[0]\n",
        "point_2_3 = p_3[1]\n",
        "point_3_3 = p_3[2]\n",
        "point_4_3 = p_3[3]\n",
        "\n",
        "a_3 = np.sqrt(np.sum((point_1_3 - point_2_3)**2))\n",
        "b_3 = np.sqrt(np.sum((point_2_3 - point_3_3)**2))\n",
        "c_3 = np.sqrt(np.sum((point_1_3 - point_3_3)**2))\n",
        "d_3 = np.sqrt(np.sum((point_1_3 - point_4_3)**2))\n",
        "e_3 = np.sqrt(np.sum((point_2_3 - point_4_3)**2))\n",
        "f_3 = np.sqrt(np.sum((point_3_3 - point_4_3)**2))\n",
        "\n",
        "Distance_3 = np.array([a_3,b_3,c_3,d_3,e_3,f_3])\n",
        "Clusters_3 = np.array([\"cluster_1 and cluster_2\",\"cluster_2 and cluster_3\",\"cluster_1 and cluster_3\",\"cluster_1 and cluster_4\",\"cluster_2 and cluster_4\",\"cluster_3 and cluster_4\"])\n",
        "dict_3 = {'Clusters' : [\"cluster_1 and cluster_2\",\"cluster_2 and cluster_3\",\"cluster_1 and cluster_3\",\"cluster_1 and cluster_4\",\"cluster_2 and cluster_4\",\"cluster_3 and cluster_4\"],\n",
        "        'Distances' : [a_3, b_3, c_3, d_3, e_3, f_3]}\n",
        "\n",
        "Table = pd.DataFrame(dict_3)\n",
        "\n",
        "print(Table)"
      ]
    },
    {
      "cell_type": "markdown",
      "id": "c10fc5c3-9550-4544-8040-fc08a3a41a8d",
      "metadata": {
        "id": "c10fc5c3-9550-4544-8040-fc08a3a41a8d"
      },
      "source": [
        "## IMG_4"
      ]
    },
    {
      "cell_type": "code",
      "execution_count": null,
      "id": "3e5e47d7-cd5e-4b8a-9149-5adbd7c782ff",
      "metadata": {
        "colab": {
          "base_uri": "https://localhost:8080/"
        },
        "id": "3e5e47d7-cd5e-4b8a-9149-5adbd7c782ff",
        "outputId": "5e05055f-d4f5-4e37-d8b9-0e232633e30c"
      },
      "outputs": [
        {
          "output_type": "stream",
          "name": "stderr",
          "text": [
            "Retrieving folder contents\n"
          ]
        },
        {
          "output_type": "stream",
          "name": "stdout",
          "text": [
            "Processing file 1CxX_C4tvz72sjZPTR3YuwGz0B2kVIgMh rotated_img_4.png\n"
          ]
        },
        {
          "output_type": "stream",
          "name": "stderr",
          "text": [
            "Retrieving folder contents completed\n",
            "Building directory structure\n",
            "Building directory structure completed\n",
            "Downloading...\n",
            "From: https://drive.google.com/uc?id=1CxX_C4tvz72sjZPTR3YuwGz0B2kVIgMh\n",
            "To: /content/train_images_4/rotated_img_4.png\n",
            "100%|██████████| 379/379 [00:00<00:00, 537kB/s]\n",
            "Download completed\n"
          ]
        }
      ],
      "source": [
        "url_4 = 'https://drive.google.com/drive/folders/1Yt6epnHqOkW4wmXl7sI-C2XIJtLO9AGG?usp=sharing'\n",
        "output_dir_4 = 'train_images_4'\n",
        "\n",
        "gdown.download_folder(url_4, output=output_dir_4, quiet=False)\n",
        "\n",
        "\n",
        "train_dir_4 = output_dir_4\n",
        "\n",
        "# train_dir_4 = 'IMG_44'\n",
        "all_points_4 = []\n",
        "\n",
        "for filename in os.listdir(train_dir_4):\n",
        "    if filename.endswith('.png'):\n",
        "        image_path_4 = os.path.join(train_dir_4,filename)\n",
        "        points_4 = process_image(image_path_4)\n",
        "        all_points_4.extend(points_4)"
      ]
    },
    {
      "cell_type": "markdown",
      "source": [
        "editing the image\n"
      ],
      "metadata": {
        "id": "raHf2roCilxq"
      },
      "id": "raHf2roCilxq"
    },
    {
      "cell_type": "code",
      "execution_count": null,
      "id": "e2aed859-8981-454f-b6b0-ed5c4d4a02fe",
      "metadata": {
        "id": "e2aed859-8981-454f-b6b0-ed5c4d4a02fe"
      },
      "outputs": [],
      "source": [
        "# path_4 = 'IMG_4/4.png'\n",
        "# img_33 = cv2.imread(path_4)\n",
        "\n",
        "# angle = 90\n",
        "# height, width = img_33.shape[:2]\n",
        "# center = (width/2, height/2)\n",
        "\n",
        "# rotation_matrix = cv2.getRotationMatrix2D(center, angle, 1.0)\n",
        "# rotated_img = cv2.warpAffine(img_33, rotation_matrix, (width, height))\n",
        "\n",
        "# cv2.imwrite(\"rotated_img_4.png\",rotated_img)\n",
        "# cv2.imshow('Image',rotated_img)\n",
        "# cv2.waitKey(0)"
      ]
    },
    {
      "cell_type": "code",
      "execution_count": null,
      "id": "d4a1f819-ba4d-4d79-b98d-b6ca7228a871",
      "metadata": {
        "id": "d4a1f819-ba4d-4d79-b98d-b6ca7228a871"
      },
      "outputs": [],
      "source": [
        "# all_points_4"
      ]
    },
    {
      "cell_type": "code",
      "source": [
        "formatted_data_7 = [to_np_array(elem) for elem in all_points_4]\n",
        "formatted_data_8 = pair_lone_numbers(formatted_data_7)"
      ],
      "metadata": {
        "id": "GnQxAwPCmW4N"
      },
      "id": "GnQxAwPCmW4N",
      "execution_count": null,
      "outputs": []
    },
    {
      "cell_type": "code",
      "execution_count": null,
      "id": "95c7c726-7702-453d-b694-7242081fbf1a",
      "metadata": {
        "colab": {
          "base_uri": "https://localhost:8080/",
          "height": 472
        },
        "id": "95c7c726-7702-453d-b694-7242081fbf1a",
        "outputId": "8e4af896-5bbf-4a1c-942d-b7b9b4d2118e"
      },
      "outputs": [
        {
          "output_type": "display_data",
          "data": {
            "text/plain": [
              "<Figure size 640x480 with 1 Axes>"
            ],
            "image/png": "[encoded data removed]"
          },
          "metadata": {}
        }
      ],
      "source": [
        "coordinates_4 = np.array(formatted_data_8)\n",
        "plt.scatter(coordinates_4[:, 0], coordinates_4[:, 1])\n",
        "plt.xlabel('X')\n",
        "plt.ylabel('Y')\n",
        "plt.title('Illumination in urban areas for image 4')\n",
        "# plt.gca().invert_yaxis()\n",
        "\n",
        "plt.show()"
      ]
    },
    {
      "cell_type": "code",
      "execution_count": null,
      "id": "97b36990-d19e-4af8-9ac8-bc23b85d4852",
      "metadata": {
        "colab": {
          "base_uri": "https://localhost:8080/",
          "height": 536
        },
        "id": "97b36990-d19e-4af8-9ac8-bc23b85d4852",
        "outputId": "d6f66614-7214-4165-b94f-9f6361dcd8b2"
      },
      "outputs": [
        {
          "output_type": "stream",
          "name": "stderr",
          "text": [
            "/usr/local/lib/python3.10/dist-packages/numpy/core/fromnumeric.py:3504: RuntimeWarning: Mean of empty slice.\n",
            "  return _methods._mean(a, axis=axis, dtype=dtype,\n",
            "/usr/local/lib/python3.10/dist-packages/numpy/core/_methods.py:121: RuntimeWarning: invalid value encountered in divide\n",
            "  ret = um.true_divide(\n"
          ]
        },
        {
          "output_type": "execute_result",
          "data": {
            "text/plain": [
              "[<matplotlib.lines.Line2D at 0x7f1310ad9ff0>]"
            ]
          },
          "metadata": {},
          "execution_count": 33
        },
        {
          "output_type": "display_data",
          "data": {
            "text/plain": [
              "<Figure size 640x480 with 1 Axes>"
            ],
            "image/png": "[encoded data removed]"
          },
          "metadata": {}
        }
      ],
      "source": [
        "def initialize_centeroids_4(k,iter = 2000):\n",
        "    sum_x = np.zeros(k)\n",
        "    sum_y = np.zeros(k)\n",
        "\n",
        "    for i in range(iter):\n",
        "        x_coor = np.random.uniform(10,50,k)\n",
        "        y_coor = np.random.uniform(10,50,k)\n",
        "        sum_x += x_coor\n",
        "        sum_y += y_coor\n",
        "    x_avg = sum_x/iter\n",
        "    y_avg = sum_y/iter\n",
        "\n",
        "    centroidS = np.column_stack((x_avg,y_avg))\n",
        "\n",
        "    return centroidS\n",
        "\n",
        "k_rng_4 = range(1,5)\n",
        "costs_4 = []\n",
        "\n",
        "for k in k_rng_4:\n",
        "    Initial_centroids = initialize_centeroids_4(k)\n",
        "    idx = find_closest_centroids(coordinates_4,Initial_centroids)\n",
        "    centroids = compute_centroids(coordinates_4, idx , k)\n",
        "    cost = calculate_cost(coordinates_4, centroids, idx)\n",
        "    costs_4.append(cost)\n",
        "\n",
        "\n",
        "\n",
        "plt.xlabel('k')\n",
        "plt.ylabel('sq error')\n",
        "plt.plot(k_rng_4,costs_4)"
      ]
    },
    {
      "cell_type": "markdown",
      "id": "3a8d865b-630f-452d-a3c6-0cf7fd294b3d",
      "metadata": {
        "id": "3a8d865b-630f-452d-a3c6-0cf7fd294b3d"
      },
      "source": [
        "#Observing the Graph and manuall observation of the datapoints\n",
        "## K Should be 2"
      ]
    },
    {
      "cell_type": "code",
      "execution_count": null,
      "id": "1be9ac40-3450-40fc-a3f0-3ad338d83924",
      "metadata": {
        "colab": {
          "base_uri": "https://localhost:8080/"
        },
        "id": "1be9ac40-3450-40fc-a3f0-3ad338d83924",
        "outputId": "3f45ee2c-dcc7-4d89-d66f-b56edfe1eed3"
      },
      "outputs": [
        {
          "output_type": "stream",
          "name": "stdout",
          "text": [
            "The centroids are: [[19.78947368 42.87719298]\n",
            " [38.7804878   6.6097561 ]]\n",
            "Cluster Labels: [0 0 0 0 0 0 0 0 0 0 0 0 0 0 0 0 0 0 0 0 0 0 0 0 0 0 0 0 0 0 0 0 0 0 0 0 0\n",
            " 0 0 0 0 0 0 0 0 0 0 0 0 0 0 0 0 0 0 0 0 1 1 1 1 1 1 1 1 1 1 1 1 1 1 1 1 1\n",
            " 1 1 1 1 1 1 1 1 1 1 1 1 1 1 1 1 1 1 1 1 1 1 1 1]\n"
          ]
        }
      ],
      "source": [
        "initial_centroids_4 = np.array([[20, 40],[40, 10]])  #guessing manually seeing the graph\n",
        "idx_4 = find_closest_centroids(coordinates_4, initial_centroids_4)\n",
        "\n",
        "K_4 = 2\n",
        "centroids_4 = compute_centroids(coordinates_4, idx_4, K_4)\n",
        "\n",
        "print(\"The centroids are:\", centroids_4)\n",
        "\n",
        "distances_4 = np.linalg.norm(coordinates_4[:, np.newaxis] - centroids_4, axis=2)\n",
        "\n",
        "# assigning each data point to the cluster with the minimum distance\n",
        "cluster_labels_4 = np.argmin(distances_4, axis=1)\n",
        "\n",
        "print(\"Cluster Labels:\", cluster_labels_4)\n",
        "\n",
        "df_4 = pd.DataFrame(coordinates_4)\n",
        "df_4['cluster'] = cluster_labels_4"
      ]
    },
    {
      "cell_type": "code",
      "execution_count": null,
      "id": "2898a072-597a-44a8-8364-b0c39e23045d",
      "metadata": {
        "colab": {
          "base_uri": "https://localhost:8080/",
          "height": 449
        },
        "id": "2898a072-597a-44a8-8364-b0c39e23045d",
        "outputId": "ab568c69-f21a-4e60-a186-8ee701e05762"
      },
      "outputs": [
        {
          "output_type": "display_data",
          "data": {
            "text/plain": [
              "<Figure size 640x480 with 1 Axes>"
            ],
            "image/png": "[encoded data removed]"
          },
          "metadata": {}
        }
      ],
      "source": [
        "plt.scatter(df_4[df_4['cluster'] == 0][0], df_4[df_4['cluster'] == 0][1], color='green', label='Cluster 1')\n",
        "plt.scatter(df_4[df_4['cluster'] == 1][0], df_4[df_4['cluster'] == 1][1], color='red', label='Cluster 2')\n",
        "\n",
        "\n",
        "\n",
        "plt.scatter(centroids_4[:, 0], centroids_4[:, 1], color='black', marker='*', label='Centroid')\n",
        "plt.xlabel('X')\n",
        "plt.ylabel('Y')\n",
        "plt.legend()\n",
        "plt.show()"
      ]
    },
    {
      "cell_type": "code",
      "execution_count": null,
      "id": "008a5be9-7eb2-4949-a798-a1c5e31cb6dd",
      "metadata": {
        "colab": {
          "base_uri": "https://localhost:8080/"
        },
        "id": "008a5be9-7eb2-4949-a798-a1c5e31cb6dd",
        "outputId": "833118b5-bcca-4cbc-fd13-336f353e0086"
      },
      "outputs": [
        {
          "output_type": "stream",
          "name": "stdout",
          "text": [
            "                  Clusters  Distances\n",
            "0  cluster_1 and cluster_2  40.938803\n"
          ]
        }
      ],
      "source": [
        "p_4 = np.array(centroids_4)\n",
        "point_1_4 = p_4[0]\n",
        "point_2_4 = p_4[1]\n",
        "\n",
        "\n",
        "a_4 = np.sqrt(np.sum((point_1_4 - point_2_4)**2))\n",
        "\n",
        "\n",
        "Distance_4 = np.array([a_4])\n",
        "Clusters_4 = np.array([\"cluster_1 and cluster_2\"])\n",
        "dict_4 = {'Clusters' : [\"cluster_1 and cluster_2\"],\n",
        "        'Distances' : [a_4]}\n",
        "\n",
        "Table_4 = pd.DataFrame(dict_4)\n",
        "\n",
        "print(Table_4)\n"
      ]
    },
    {
      "cell_type": "code",
      "execution_count": null,
      "id": "051ec13c-0e16-42bc-b729-27ce3e74a54c",
      "metadata": {
        "id": "051ec13c-0e16-42bc-b729-27ce3e74a54c"
      },
      "outputs": [],
      "source": []
    }
  ],
  "metadata": {
    "kernelspec": {
      "display_name": "Python 3 (ipykernel)",
      "language": "python",
      "name": "python3"
    },
    "language_info": {
      "codemirror_mode": {
        "name": "ipython",
        "version": 3
      },
      "file_extension": ".py",
      "mimetype": "text/x-python",
      "name": "python",
      "nbconvert_exporter": "python",
      "pygments_lexer": "ipython3",
      "version": "3.12.1"
    },
    "colab": {
      "provenance": [],
      "include_colab_link": true
    }
  },
  "nbformat": 4,
  "nbformat_minor": 5
}